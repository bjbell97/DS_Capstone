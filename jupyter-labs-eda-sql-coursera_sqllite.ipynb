{
 "cells": [
  {
   "cell_type": "markdown",
   "metadata": {},
   "source": [
    "<p style=\"text-align:center\">\n",
    "    <a href=\"https://skills.network/?utm_medium=Exinfluencer&utm_source=Exinfluencer&utm_content=000026UJ&utm_term=10006555&utm_id=NA-SkillsNetwork-Channel-SkillsNetworkCoursesIBMDS0321ENSkillsNetwork865-2022-01-01\" target=\"_blank\">\n",
    "    <img src=\"https://cf-courses-data.s3.us.cloud-object-storage.appdomain.cloud/assets/logos/SN_web_lightmode.png\" width=\"200\" alt=\"Skills Network Logo\"  />\n",
    "    </a>\n",
    "</p>\n",
    "\n",
    "<h1 align=center><font size = 5>Assignment: SQL Notebook for Peer Assignment</font></h1>\n",
    "\n",
    "Estimated time needed: **60** minutes.\n",
    "\n",
    "## Introduction\n",
    "Using this Python notebook you will:\n",
    "\n",
    "1.  Understand the Spacex DataSet\n",
    "2.  Load the dataset  into the corresponding table in a Db2 database\n",
    "3.  Execute SQL queries to answer assignment questions \n"
   ]
  },
  {
   "cell_type": "markdown",
   "metadata": {},
   "source": [
    "## Overview of the DataSet\n",
    "\n",
    "SpaceX has gained worldwide attention for a series of historic milestones. \n",
    "\n",
    "It is the only private company ever to return a spacecraft from low-earth orbit, which it first accomplished in December 2010.\n",
    "SpaceX advertises Falcon 9 rocket launches on its website with a cost of 62 million dollars wheras other providers cost upward of 165 million dollars each, much of the savings is because Space X can reuse the first stage. \n",
    "\n",
    "\n",
    "Therefore if we can determine if the first stage will land, we can determine the cost of a launch. \n",
    "\n",
    "This information can be used if an alternate company wants to bid against SpaceX for a rocket launch.\n",
    "\n",
    "This dataset includes a record for each payload carried during a SpaceX mission into outer space.\n"
   ]
  },
  {
   "cell_type": "markdown",
   "metadata": {},
   "source": [
    "### Download the datasets\n",
    "\n",
    "This assignment requires you to load the spacex dataset.\n",
    "\n",
    "In many cases the dataset to be analyzed is available as a .CSV (comma separated values) file, perhaps on the internet. Click on the link below to download and save the dataset (.CSV file):\n",
    "\n",
    " <a href=\"https://cf-courses-data.s3.us.cloud-object-storage.appdomain.cloud/IBM-DS0321EN-SkillsNetwork/labs/module_2/data/Spacex.csv\" target=\"_blank\">Spacex DataSet</a>\n",
    "\n"
   ]
  },
  {
   "cell_type": "code",
   "execution_count": 17,
   "metadata": {},
   "outputs": [
    {
     "name": "stdout",
     "output_type": "stream",
     "text": [
      "Requirement already satisfied: sqlalchemy==1.3.9 in /home/jupyterlab/conda/envs/python/lib/python3.7/site-packages (1.3.9)\n"
     ]
    }
   ],
   "source": [
    "!pip install sqlalchemy==1.3.9\n"
   ]
  },
  {
   "cell_type": "markdown",
   "metadata": {},
   "source": [
    "### Connect to the database\n",
    "\n",
    "Let us first load the SQL extension and establish a connection with the database\n"
   ]
  },
  {
   "cell_type": "code",
   "execution_count": 18,
   "metadata": {},
   "outputs": [
    {
     "name": "stdout",
     "output_type": "stream",
     "text": [
      "The sql extension is already loaded. To reload it, use:\n",
      "  %reload_ext sql\n"
     ]
    }
   ],
   "source": [
    "%load_ext sql"
   ]
  },
  {
   "cell_type": "code",
   "execution_count": 19,
   "metadata": {},
   "outputs": [],
   "source": [
    "import csv, sqlite3\n",
    "\n",
    "con = sqlite3.connect(\"my_data1.db\")\n",
    "cur = con.cursor()"
   ]
  },
  {
   "cell_type": "code",
   "execution_count": 20,
   "metadata": {},
   "outputs": [],
   "source": [
    "!pip install -q pandas==1.1.5"
   ]
  },
  {
   "cell_type": "code",
   "execution_count": 21,
   "metadata": {},
   "outputs": [
    {
     "data": {
      "text/plain": [
       "'Connected: @my_data1.db'"
      ]
     },
     "execution_count": 21,
     "metadata": {},
     "output_type": "execute_result"
    }
   ],
   "source": [
    "%sql sqlite:///my_data1.db"
   ]
  },
  {
   "cell_type": "code",
   "execution_count": 22,
   "metadata": {},
   "outputs": [
    {
     "name": "stderr",
     "output_type": "stream",
     "text": [
      "/home/jupyterlab/conda/envs/python/lib/python3.7/site-packages/pandas/core/generic.py:2882: UserWarning: The spaces in these column names will not be changed. In pandas versions < 0.14, spaces were converted to underscores.\n",
      "  both result in 0.1234 being formatted as 0.12.\n"
     ]
    }
   ],
   "source": [
    "import pandas as pd\n",
    "df = pd.read_csv(\"https://cf-courses-data.s3.us.cloud-object-storage.appdomain.cloud/IBM-DS0321EN-SkillsNetwork/labs/module_2/data/Spacex.csv\")\n",
    "df.to_sql(\"SPACEXTBL\", con, if_exists='replace', index=False,method=\"multi\")"
   ]
  },
  {
   "cell_type": "markdown",
   "metadata": {},
   "source": [
    "## Tasks\n",
    "\n",
    "Now write and execute SQL queries to solve the assignment tasks.\n",
    "\n",
    "**Note: If the column names are in mixed case enclose it in double quotes\n",
    "   For Example \"Landing_Outcome\"**\n",
    "\n",
    "### Task 1\n",
    "\n",
    "\n",
    "\n",
    "\n",
    "##### Display the names of the unique launch sites  in the space mission\n"
   ]
  },
  {
   "cell_type": "code",
   "execution_count": 7,
   "metadata": {},
   "outputs": [
    {
     "name": "stdout",
     "output_type": "stream",
     "text": [
      "('CCAFS LC-40',)\n",
      "('VAFB SLC-4E',)\n",
      "('KSC LC-39A',)\n",
      "('CCAFS SLC-40',)\n"
     ]
    }
   ],
   "source": [
    "cur.execute('''SELECT DISTINCT(\"Launch_Site\") FROM  SPACEXTBL''')\n",
    "output_1 = cur.fetchall()\n",
    "for name in output_1:\n",
    "    print(name)"
   ]
  },
  {
   "cell_type": "markdown",
   "metadata": {},
   "source": [
    "\n",
    "### Task 2\n",
    "\n",
    "\n",
    "#####  Display 5 records where launch sites begin with the string 'CCA' \n"
   ]
  },
  {
   "cell_type": "code",
   "execution_count": 8,
   "metadata": {},
   "outputs": [
    {
     "name": "stdout",
     "output_type": "stream",
     "text": [
      "('CCAFS LC-40',)\n",
      "('CCAFS LC-40',)\n",
      "('CCAFS LC-40',)\n",
      "('CCAFS LC-40',)\n",
      "('CCAFS LC-40',)\n"
     ]
    }
   ],
   "source": [
    "cur.execute('''SELECT \"Launch_Site\" FROM SPACEXTBL WHERE \"Launch_Site\" LIKE \"CCA%\" LIMIT 5 ''')\n",
    "output_2 = cur.fetchall()\n",
    "for result in output_2:\n",
    "    print(result)"
   ]
  },
  {
   "cell_type": "markdown",
   "metadata": {},
   "source": [
    "### Task 3\n",
    "\n",
    "\n",
    "\n",
    "\n",
    "##### Display the total payload mass carried by boosters launched by NASA (CRS)\n"
   ]
  },
  {
   "cell_type": "code",
   "execution_count": 9,
   "metadata": {},
   "outputs": [
    {
     "name": "stdout",
     "output_type": "stream",
     "text": [
      "(99980,)\n"
     ]
    }
   ],
   "source": [
    "cur.execute('''SELECT SUM(\"PAYLOAD_MASS__KG_\") FROM SPACEXTBL WHERE \"Customer\" LIKE \"NASA%\"''')\n",
    "output_3 = cur.fetchall()\n",
    "for mass in output_3:\n",
    "    print(mass)"
   ]
  },
  {
   "cell_type": "markdown",
   "metadata": {},
   "source": [
    "### Task 4\n",
    "\n",
    "\n",
    "\n",
    "\n",
    "##### Display average payload mass carried by booster version F9 v1.1\n"
   ]
  },
  {
   "cell_type": "code",
   "execution_count": 10,
   "metadata": {},
   "outputs": [
    {
     "name": "stdout",
     "output_type": "stream",
     "text": [
      "(2534.6666666666665,)\n"
     ]
    }
   ],
   "source": [
    "cur.execute('''SELECT AVG(PAYLOAD_MASS__KG_) FROM SPACEXTBL WHERE \"Booster_Version\" LIKE \"F9 v1.1%\" ''')\n",
    "output_4 = cur.fetchall()\n",
    "for x in output_4:\n",
    "    print(x)"
   ]
  },
  {
   "cell_type": "markdown",
   "metadata": {},
   "source": [
    "### Task 5\n",
    "\n",
    "##### List the date when the first succesful landing outcome in ground pad was acheived.\n",
    "\n",
    "\n",
    "_Hint:Use min function_ \n"
   ]
  },
  {
   "cell_type": "code",
   "execution_count": 11,
   "metadata": {},
   "outputs": [
    {
     "name": "stdout",
     "output_type": "stream",
     "text": [
      "('22-12-2015',)\n"
     ]
    }
   ],
   "source": [
    "#MIN function returned 01/2017 since its reading dates as strings. I used limit instead to retrieve first value\n",
    "#since the date values are in ascending order\n",
    "\n",
    "cur.execute('''SELECT \"Date\" FROM SPACEXTBL \n",
    "WHERE \"Landing _Outcome\" = \"Success (ground pad)\" \n",
    "LIMIT 1''')\n",
    "output_5 = cur.fetchall()\n",
    "for x in output_5:\n",
    "    print(x)"
   ]
  },
  {
   "cell_type": "markdown",
   "metadata": {},
   "source": [
    "### Task 6\n",
    "\n",
    "##### List the names of the boosters which have success in drone ship and have payload mass greater than 4000 but less than 6000\n"
   ]
  },
  {
   "cell_type": "code",
   "execution_count": 16,
   "metadata": {
    "tags": []
   },
   "outputs": [
    {
     "name": "stdout",
     "output_type": "stream",
     "text": [
      "('F9 FT B1022',)\n",
      "('F9 FT B1026',)\n",
      "('F9 FT  B1021.2',)\n",
      "('F9 FT  B1031.2',)\n"
     ]
    }
   ],
   "source": [
    "cur.execute('''\n",
    "SELECT DISTINCT (\"Booster_Version\") FROM SPACEXTBL\n",
    "WHERE PAYLOAD_MASS__KG_ > 4000 AND PAYLOAD_MASS__KG_ < 6000\n",
    "AND \"Landing _Outcome\" = \"Success (drone ship)\"\n",
    "''')\n",
    "output_6 = cur.fetchall()\n",
    "for x in output_6:\n",
    "    print(x)"
   ]
  },
  {
   "cell_type": "markdown",
   "metadata": {
    "tags": []
   },
   "source": [
    "### Task 7\n",
    "\n",
    "\n",
    "\n",
    "\n",
    "##### List the total number of successful and failure mission outcomes\n"
   ]
  },
  {
   "cell_type": "code",
   "execution_count": 13,
   "metadata": {},
   "outputs": [
    {
     "name": "stdout",
     "output_type": "stream",
     "text": [
      "(100,)\n"
     ]
    }
   ],
   "source": [
    "cur.execute('''\n",
    "SELECT COUNT(*) FROM SPACEXTBL\n",
    "WHERE \"Mission_Outcome\" LIKE \"Success%\"\n",
    "''')\n",
    "output_7a = cur.fetchall()\n",
    "for x in output_7a:\n",
    "    print(x)"
   ]
  },
  {
   "cell_type": "code",
   "execution_count": 14,
   "metadata": {},
   "outputs": [
    {
     "name": "stdout",
     "output_type": "stream",
     "text": [
      "(1,)\n"
     ]
    }
   ],
   "source": [
    "cur.execute('''\n",
    "SELECT COUNT(*) FROM SPACEXTBL\n",
    "WHERE \"Mission_Outcome\" LIKE \"Failure%\"\n",
    "''')\n",
    "output_7b = cur.fetchall()\n",
    "for x in output_7b:\n",
    "    print(x)"
   ]
  },
  {
   "cell_type": "markdown",
   "metadata": {},
   "source": [
    "### Task 8\n",
    "\n",
    "\n",
    "\n",
    "##### List the   names of the booster_versions which have carried the maximum payload mass. Use a subquery\n"
   ]
  },
  {
   "cell_type": "code",
   "execution_count": 15,
   "metadata": {},
   "outputs": [
    {
     "name": "stdout",
     "output_type": "stream",
     "text": [
      "('F9 B5 B1048.4',)\n",
      "('F9 B5 B1049.4',)\n",
      "('F9 B5 B1051.3',)\n",
      "('F9 B5 B1056.4',)\n",
      "('F9 B5 B1048.5',)\n",
      "('F9 B5 B1051.4',)\n",
      "('F9 B5 B1049.5',)\n",
      "('F9 B5 B1060.2 ',)\n",
      "('F9 B5 B1058.3 ',)\n",
      "('F9 B5 B1051.6',)\n",
      "('F9 B5 B1060.3',)\n",
      "('F9 B5 B1049.7 ',)\n"
     ]
    }
   ],
   "source": [
    "cur.execute('''\n",
    "SELECT DISTINCT(\"Booster_Version\") FROM SPACEXTBL\n",
    "WHERE PAYLOAD_MASS__KG_ = (SELECT MAX(PAYLOAD_MASS__KG_) FROM SPACEXTBL)\n",
    "''')\n",
    "\n",
    "output8 = cur.fetchall()\n",
    "for x in output8:\n",
    "    print(x)"
   ]
  },
  {
   "cell_type": "markdown",
   "metadata": {},
   "source": [
    "### Task 9\n",
    "\n",
    "\n",
    "##### List the records which will display the month names, failure landing_outcomes in drone ship ,booster versions, launch_site for the months in year 2015.\n",
    "\n",
    "**Note: SQLLite does not support monthnames. So you need to use  substr(Date, 4, 2) as month to get the months and substr(Date,7,4)='2015' for year.**\n"
   ]
  },
  {
   "cell_type": "code",
   "execution_count": 25,
   "metadata": {},
   "outputs": [
    {
     "name": "stdout",
     "output_type": "stream",
     "text": [
      "('01', 'Failure (drone ship)', 'F9 v1.1 B1012', 'CCAFS LC-40')\n",
      "('04', 'Failure (drone ship)', 'F9 v1.1 B1015', 'CCAFS LC-40')\n"
     ]
    }
   ],
   "source": [
    "cur.execute('''\n",
    "SELECT substr(\"Date\",4,2), \"Landing _Outcome\", \"Booster_Version\", \"Launch_Site\"\n",
    "FROM SPACEXTBL\n",
    "WHERE substr(\"Date\",7,4) = \"2015\"\n",
    "AND \"Landing _Outcome\" = \"Failure (drone ship)\"\n",
    "''')\n",
    "output9 = cur.fetchall()\n",
    "for x in output9:\n",
    "    print(x)"
   ]
  },
  {
   "cell_type": "markdown",
   "metadata": {},
   "source": [
    "### Task 10\n",
    "\n",
    "\n",
    "\n",
    "\n",
    "##### Rank the  count of  successful landing_outcomes between the date 04-06-2010 and 20-03-2017 in descending order.\n"
   ]
  },
  {
   "cell_type": "code",
   "execution_count": 30,
   "metadata": {},
   "outputs": [
    {
     "name": "stdout",
     "output_type": "stream",
     "text": [
      "('04-06-2020', 1)\n",
      "('05-11-2020', 1)\n",
      "('05-12-2019', 1)\n",
      "('06-05-2016', 1)\n",
      "('06-10-2020', 1)\n",
      "('06-12-2020', 1)\n",
      "('07-01-2020', 1)\n",
      "('07-03-2020', 1)\n",
      "('07-08-2018', 1)\n",
      "('07-08-2020', 1)\n",
      "('07-09-2017', 1)\n",
      "('08-01-2018', 1)\n",
      "('08-04-2016', 1)\n",
      "('08-10-2018', 1)\n",
      "('09-10-2017', 1)\n",
      "('10-09-2018', 1)\n",
      "('11-01-2019', 1)\n",
      "('11-05-2018', 1)\n",
      "('11-10-2017', 1)\n",
      "('11-11-2019', 1)\n",
      "('12-06-2019', 1)\n",
      "('13-06-2020', 1)\n",
      "('14-01-2017', 1)\n",
      "('14-08-2016', 1)\n",
      "('14-08-2017', 1)\n",
      "('15-11-2018', 1)\n",
      "('15-12-2017', 1)\n",
      "('16-11-2020', 1)\n",
      "('17-12-2019', 1)\n",
      "('18-04-2018', 1)\n",
      "('18-07-2016', 1)\n",
      "('18-08-2020', 1)\n",
      "('18-10-2020', 1)\n",
      "('19-02-2017', 1)\n"
     ]
    }
   ],
   "source": [
    "#I don't understand this question won't all the counts just be 1?\n",
    "#There aren't multiple landings on a single date\n",
    "\n",
    "cur.execute('''\n",
    "SELECT \"Date\", COUNT(\"Landing _Outcome\") FROM SPACEXTBL\n",
    "WHERE \"Landing _Outcome\" LIKE \"Success%\"\n",
    "AND \"Date\" BETWEEN \"04-06-2010\" AND \"20-03-2017\"\n",
    "GROUP BY \"Date\"\n",
    "''')\n",
    "\n",
    "output10 = cur.fetchall()\n",
    "for x in output10:\n",
    "    print(x)"
   ]
  },
  {
   "cell_type": "markdown",
   "metadata": {},
   "source": [
    "### Reference Links\n",
    "\n",
    "* <a href =\"https://cf-courses-data.s3.us.cloud-object-storage.appdomain.cloud/IBMDeveloperSkillsNetwork-DB0201EN-SkillsNetwork/labs/Labs_Coursera_V5/labs/Lab%20-%20String%20Patterns%20-%20Sorting%20-%20Grouping/instructional-labs.md.html?origin=www.coursera.org\">Hands-on Lab : String Patterns, Sorting and Grouping</a>  \n",
    "\n",
    "*  <a  href=\"https://cf-courses-data.s3.us.cloud-object-storage.appdomain.cloud/IBMDeveloperSkillsNetwork-DB0201EN-SkillsNetwork/labs/Labs_Coursera_V5/labs/Lab%20-%20Built-in%20functions%20/Hands-on_Lab__Built-in_Functions.md.html?origin=www.coursera.org\">Hands-on Lab: Built-in functions</a>\n",
    "\n",
    "*  <a  href=\"https://cf-courses-data.s3.us.cloud-object-storage.appdomain.cloud/IBMDeveloperSkillsNetwork-DB0201EN-SkillsNetwork/labs/Labs_Coursera_V5/labs/Lab%20-%20Sub-queries%20and%20Nested%20SELECTs%20/instructional-labs.md.html?origin=www.coursera.org\">Hands-on Lab : Sub-queries and Nested SELECT Statements</a>\n",
    "\n",
    "*   <a href=\"https://cf-courses-data.s3.us.cloud-object-storage.appdomain.cloud/IBMDeveloperSkillsNetwork-DB0201EN-SkillsNetwork/labs/Module%205/DB0201EN-Week3-1-3-SQLmagic.ipynb\">Hands-on Tutorial: Accessing Databases with SQL magic</a>\n",
    "\n",
    "*  <a href= \"https://cf-courses-data.s3.us.cloud-object-storage.appdomain.cloud/IBMDeveloperSkillsNetwork-DB0201EN-SkillsNetwork/labs/Module%205/DB0201EN-Week3-1-4-Analyzing.ipynb\">Hands-on Lab: Analyzing a real World Data Set</a>\n",
    "\n",
    "\n"
   ]
  },
  {
   "cell_type": "markdown",
   "metadata": {},
   "source": [
    "## Author(s)\n",
    "\n",
    "<h4> Lakshmi Holla </h4>\n"
   ]
  },
  {
   "cell_type": "markdown",
   "metadata": {},
   "source": [
    "## Other Contributors\n",
    "\n",
    "<h4> Rav Ahuja </h4>\n"
   ]
  },
  {
   "cell_type": "markdown",
   "metadata": {},
   "source": [
    "## Change log\n",
    "| Date | Version | Changed by | Change Description |\n",
    "|------|--------|--------|---------|\n",
    "| 2021-07-09 | 0.2 |Lakshmi Holla | Changes made in magic sql|\n",
    "| 2021-05-20 | 0.1 |Lakshmi Holla | Created Initial Version |\n"
   ]
  },
  {
   "cell_type": "markdown",
   "metadata": {},
   "source": [
    "## <h3 align=\"center\"> © IBM Corporation 2021. All rights reserved. <h3/>\n"
   ]
  }
 ],
 "metadata": {
  "kernelspec": {
   "display_name": "Python",
   "language": "python",
   "name": "conda-env-python-py"
  },
  "language_info": {
   "codemirror_mode": {
    "name": "ipython",
    "version": 3
   },
   "file_extension": ".py",
   "mimetype": "text/x-python",
   "name": "python",
   "nbconvert_exporter": "python",
   "pygments_lexer": "ipython3",
   "version": "3.7.12"
  }
 },
 "nbformat": 4,
 "nbformat_minor": 4
}
